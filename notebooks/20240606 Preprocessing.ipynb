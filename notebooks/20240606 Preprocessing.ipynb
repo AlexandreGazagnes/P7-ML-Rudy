{
 "cells": [
  {
   "cell_type": "markdown",
   "id": "8b21c6f7",
   "metadata": {},
   "source": [
    "# Project 7"
   ]
  },
  {
   "cell_type": "markdown",
   "id": "d9b8f8ee",
   "metadata": {},
   "source": [
    "## Sys Ops"
   ]
  },
  {
   "cell_type": "code",
   "execution_count": 1,
   "id": "3053e5ca",
   "metadata": {},
   "outputs": [
    {
     "name": "stdout",
     "output_type": "stream",
     "text": [
      "/home/alex/tmp/P7-ML-Rudy\n"
     ]
    },
    {
     "name": "stderr",
     "output_type": "stream",
     "text": [
      "/home/alex/tmp/P7-ML-Rudy/.venv/lib/python3.10/site-packages/IPython/core/magics/osm.py:417: UserWarning: This is now an optional IPython functionality, setting dhist requires you to install the `pickleshare` library.\n",
      "  self.shell.db['dhist'] = compress_dhist(dhist)[-100:]\n"
     ]
    }
   ],
   "source": [
    "cd .."
   ]
  },
  {
   "cell_type": "code",
   "execution_count": 2,
   "id": "b4c0293b",
   "metadata": {},
   "outputs": [
    {
     "data": {
      "text/plain": [
       "'/home/alex/tmp/P7-ML-Rudy'"
      ]
     },
     "execution_count": 2,
     "metadata": {},
     "output_type": "execute_result"
    }
   ],
   "source": [
    "pwd"
   ]
  },
  {
   "cell_type": "code",
   "execution_count": null,
   "id": "d0810bff",
   "metadata": {},
   "outputs": [],
   "source": []
  },
  {
   "cell_type": "markdown",
   "id": "0c3afc81",
   "metadata": {},
   "source": [
    "## Imports "
   ]
  },
  {
   "cell_type": "code",
   "execution_count": 3,
   "id": "ee1b0b04-81e2-4b48-b69f-fab60e3c4011",
   "metadata": {},
   "outputs": [],
   "source": [
    "import pandas as pd\n",
    "import numpy as np\n",
    "\n",
    "import matplotlib.pyplot as plt\n",
    "import seaborn as sns\n",
    "import plotly.express as px\n",
    "\n",
    "import missingno as msno\n",
    "\n",
    "from sklearn.feature_selection import *\n",
    "from sklearn.feature_extraction import *\n",
    "from sklearn.decomposition import *\n",
    "from sklearn.model_selection import *\n",
    "from sklearn.impute import *\n",
    "from sklearn.preprocessing import *\n",
    "from sklearn.pipeline import *\n",
    "from sklearn.covariance import *\n",
    "from sklearn.metrics import *\n",
    "from sklearn.compose import *\n",
    "\n",
    "from sklearn.dummy import *\n",
    "from sklearn.linear_model import *\n",
    "from sklearn.neighbors import *\n",
    "from sklearn.svm import *\n",
    "from sklearn.ensemble import *\n",
    "from sklearn.cluster import *"
   ]
  },
  {
   "cell_type": "code",
   "execution_count": 4,
   "id": "f548f2ba",
   "metadata": {},
   "outputs": [],
   "source": [
    "# DO NOT REMOVE THIS LINE"
   ]
  },
  {
   "cell_type": "code",
   "execution_count": null,
   "id": "ad8a5e19",
   "metadata": {},
   "outputs": [],
   "source": []
  },
  {
   "cell_type": "markdown",
   "id": "e6364b98",
   "metadata": {},
   "source": [
    "## Data"
   ]
  },
  {
   "cell_type": "code",
   "execution_count": 5,
   "id": "10a257b2-b23a-444f-8765-5cb5e424b21a",
   "metadata": {},
   "outputs": [],
   "source": [
    "fn = \"application_train.csv\"\n",
    "df = pd.read_csv(\"./data/source/\" + fn)"
   ]
  },
  {
   "cell_type": "code",
   "execution_count": null,
   "id": "622e3060-b13d-4c45-b21d-29e31d119cc5",
   "metadata": {},
   "outputs": [],
   "source": [
    "df"
   ]
  },
  {
   "cell_type": "code",
   "execution_count": null,
   "id": "98a522ab-a078-458e-8ab4-7e5e14450c7f",
   "metadata": {},
   "outputs": [],
   "source": [
    "df = df.sample(frac = 1)\n",
    "df"
   ]
  },
  {
   "cell_type": "code",
   "execution_count": null,
   "id": "7853bcfa-61f8-45f7-a734-ba7937f1b3e8",
   "metadata": {},
   "outputs": [],
   "source": [
    "# filter for correl\n",
    "#df = df.filter(['TARGET', 'NAME_CONTRACT_TYPE', 'CODE_GENDER', 'FLAG_OWN_CAR', 'FLAG_OWN_REALTY', 'CNT_CHILDREN', 'AMT_INCOME_TOTAL', 'AMT_CREDIT',\n",
    "#                'NAME_INCOME_TYPE', 'NAME_EDUCATION_TYPE', 'NAME_FAMILY_STATUS', 'NAME_HOUSING_TYPE', 'DAYS_BIRTH', 'DAYS_EMPLOYED'\n",
    "#                ])\n",
    "\n",
    "df = df.filter(['TARGET', 'NAME_CONTRACT_TYPE', 'CODE_GENDER', 'FLAG_OWN_CAR', 'FLAG_OWN_REALTY', 'CNT_CHILDREN', 'AMT_INCOME_TOTAL', 'AMT_CREDIT', 'AMT_ANNUITY',\n",
    "                'AMT_GOODS_PRICE', 'NAME_TYPE_SUITE', 'NAME_INCOME_TYPE', 'NAME_EDUCATION_TYPE', 'NAME_FAMILY_STATUS', 'NAME_HOUSING_TYPE', 'DAYS_BIRTH', 'DAYS_EMPLOYED',\n",
    "                'ORGANIZATION_TYPE', 'OCCUPATION_TYPE', 'EXT_SOURCE_1', 'EXT_SOURCE_2',  'EXT_SOURCE_3'\n",
    "                ])\n",
    "\n",
    "\n",
    "df"
   ]
  },
  {
   "cell_type": "markdown",
   "id": "02a3daf4",
   "metadata": {},
   "source": [
    "## EDA Exploratory Data Analysis"
   ]
  },
  {
   "cell_type": "code",
   "execution_count": null,
   "id": "8b9574b4-6ac6-4a09-b618-b7d2e9208a23",
   "metadata": {},
   "outputs": [],
   "source": [
    "df.sort_values('AMT_INCOME_TOTAL', ascending = False)"
   ]
  },
  {
   "cell_type": "code",
   "execution_count": null,
   "id": "cce846e3-980e-4396-99b4-f7428fe271a7",
   "metadata": {},
   "outputs": [],
   "source": [
    "df.sort_values('AMT_CREDIT', ascending = False)"
   ]
  },
  {
   "cell_type": "code",
   "execution_count": null,
   "id": "9abbe25c-78bd-463b-b390-69d4e10f17e0",
   "metadata": {},
   "outputs": [],
   "source": [
    "df.sort_values('AMT_ANNUITY', ascending = False)"
   ]
  },
  {
   "cell_type": "code",
   "execution_count": null,
   "id": "345ebb95-3cfd-4de8-b58d-fdaf18979ee8",
   "metadata": {},
   "outputs": [],
   "source": [
    "df.sort_values('AMT_GOODS_PRICE', ascending = False)"
   ]
  },
  {
   "cell_type": "code",
   "execution_count": null,
   "id": "bd3e150a-048e-47f9-8018-22c3c0c07ae2",
   "metadata": {},
   "outputs": [],
   "source": [
    "df.sort_values('DAYS_BIRTH', ascending = False)"
   ]
  },
  {
   "cell_type": "code",
   "execution_count": null,
   "id": "55c274dc-699d-4302-9af4-759813dadf6d",
   "metadata": {},
   "outputs": [],
   "source": [
    "df.sort_values('DAYS_EMPLOYED', ascending = False)"
   ]
  },
  {
   "cell_type": "code",
   "execution_count": null,
   "id": "d6f0a9d0-e265-4930-829a-d8868a5fcc2f",
   "metadata": {},
   "outputs": [],
   "source": [
    "df.loc[df['DAYS_EMPLOYED'] == 365243, 'DAYS_EMPLOYED'] = float('NaN')"
   ]
  },
  {
   "cell_type": "code",
   "execution_count": null,
   "id": "a2e39c8e-0e1b-44c7-98b1-1dab0009af0c",
   "metadata": {},
   "outputs": [],
   "source": [
    "df.sort_values('DAYS_EMPLOYED', ascending = False)"
   ]
  },
  {
   "cell_type": "code",
   "execution_count": null,
   "id": "eeb2b593-53a9-490f-9052-41c181ce5ef5",
   "metadata": {},
   "outputs": [],
   "source": [
    "df.sort_values('DAYS_EMPLOYED', ascending = True)"
   ]
  },
  {
   "cell_type": "code",
   "execution_count": null,
   "id": "e3e4c29c-7a05-480b-916c-e1a279aba914",
   "metadata": {},
   "outputs": [],
   "source": [
    "df.loc[df['ORGANIZATION_TYPE'] == 'XNA', 'ORGANIZATION_TYPE'] = float('NaN')"
   ]
  },
  {
   "cell_type": "code",
   "execution_count": null,
   "id": "fbbe34aa-dd54-46f8-b9ae-8e750eaa7338",
   "metadata": {},
   "outputs": [],
   "source": [
    "df.TARGET.value_counts(normalize=True)"
   ]
  },
  {
   "cell_type": "code",
   "execution_count": null,
   "id": "fce7d9ab-2260-4cdc-ad1b-3cc5de32e39c",
   "metadata": {},
   "outputs": [],
   "source": [
    "#Transformations\n",
    "\n",
    "df.loc[df['CODE_GENDER'] == 'M', 'CODE_GENDER'] = 1\n",
    "df.loc[df['CODE_GENDER'] == 'F', 'CODE_GENDER'] = 2\n",
    "df.loc[df['CODE_GENDER'] == 'XNA', 'CODE_GENDER'] = 2\n",
    "\n",
    "df.loc[df['FLAG_OWN_CAR'] == 'Y', 'FLAG_OWN_CAR'] = 1\n",
    "df.loc[df['FLAG_OWN_CAR'] == 'N', 'FLAG_OWN_CAR'] = 0\n",
    "\n",
    "df.loc[df['FLAG_OWN_REALTY'] == 'Y', 'FLAG_OWN_REALTY'] = 1\n",
    "df.loc[df['FLAG_OWN_REALTY'] == 'N', 'FLAG_OWN_REALTY'] = 0\n",
    "\n",
    "df.DAYS_BIRTH = - df.DAYS_BIRTH / 365\n",
    "df.DAYS_EMPLOYED = - df.DAYS_EMPLOYED / 365\n",
    "\n",
    "df"
   ]
  },
  {
   "cell_type": "code",
   "execution_count": null,
   "id": "0feef4b5-a9f8-4f5c-a55c-f9a7cfe84fd6",
   "metadata": {},
   "outputs": [],
   "source": [
    "df.isna().sum()"
   ]
  },
  {
   "cell_type": "code",
   "execution_count": null,
   "id": "472988c7-38ed-4802-9631-7bb56909b048",
   "metadata": {},
   "outputs": [],
   "source": [
    "#df.corr()"
   ]
  },
  {
   "cell_type": "code",
   "execution_count": null,
   "id": "d114b035-d387-4274-af5d-c086541134f0",
   "metadata": {},
   "outputs": [],
   "source": [
    "\n",
    "\n",
    "corr = df.select_dtypes(include=np.number).corr()\n",
    "mask = np.triu(corr)\n",
    "sns.heatmap(corr, annot=True, vmin=-1, vmax=1, cmap=\"coolwarm\", fmt=\".2f\", mask=mask)"
   ]
  },
  {
   "cell_type": "code",
   "execution_count": null,
   "id": "7bece13c-fb09-4a53-9b35-e20f603ce601",
   "metadata": {},
   "outputs": [],
   "source": [
    "# on construit la matrice X des Features\n",
    "X = df.drop(columns='TARGET')\n",
    "X"
   ]
  },
  {
   "cell_type": "code",
   "execution_count": null,
   "id": "f71cb947-dcf5-48c1-834c-7ebaad959ce6",
   "metadata": {},
   "outputs": [],
   "source": [
    "# On construit l vecteur y des Targets\n",
    "y = df['TARGET']\n",
    "y"
   ]
  },
  {
   "cell_type": "code",
   "execution_count": null,
   "id": "3689898a-c881-4c8e-8011-e4dce7f7c966",
   "metadata": {},
   "outputs": [],
   "source": [
    "y.values"
   ]
  },
  {
   "cell_type": "code",
   "execution_count": null,
   "id": "8be5c761-d79e-46e6-b7ea-65241174a65e",
   "metadata": {},
   "outputs": [],
   "source": [
    "def resultize(grid, verbose=2):\n",
    "    \"\"\"make results based on gridsearchcv\"\"\"\n",
    "    \n",
    "    #make df\n",
    "    results = pd.DataFrame(grid.cv_results_)\n",
    "    \n",
    "    #clean columns\n",
    "    cols = [i for i in results.columns if not i.startswith(\"split\")]\n",
    "    results = results.loc[:, cols]\n",
    "    \n",
    "    if verbose==2:\n",
    "        print(\"coucou\")\n",
    "        \n",
    "    return results.round(2)"
   ]
  },
  {
   "cell_type": "code",
   "execution_count": null,
   "id": "e8b6683e-524d-4cb3-ba45-5d00cedc815b",
   "metadata": {},
   "outputs": [],
   "source": [
    "# X_train, X_test, y_train, y_test = train_test_split(X, y, test_size=0.25)"
   ]
  },
  {
   "cell_type": "markdown",
   "id": "84ad17a5",
   "metadata": {},
   "source": [
    "## Modelisation"
   ]
  },
  {
   "cell_type": "markdown",
   "id": "97f3dbb4-6af2-4fad-8cad-b12f78a158e9",
   "metadata": {},
   "source": [
    "### Refactoring avec utilisation de Pipeline "
   ]
  },
  {
   "cell_type": "markdown",
   "id": "6c377040-b6bd-4662-b12c-4a166281495d",
   "metadata": {},
   "source": [
    "### Création du ColumnTransformer"
   ]
  },
  {
   "cell_type": "code",
   "execution_count": null,
   "id": "09e2fc76-9154-44e6-8ebe-f0beb1068a1f",
   "metadata": {},
   "outputs": [],
   "source": [
    "numerical_features = ['CODE_GENDER', 'FLAG_OWN_CAR', 'FLAG_OWN_REALTY', 'CNT_CHILDREN', 'AMT_INCOME_TOTAL', 'AMT_CREDIT', 'AMT_ANNUITY',\n",
    "                'AMT_GOODS_PRICE', 'DAYS_BIRTH', 'DAYS_EMPLOYED',\n",
    "                'EXT_SOURCE_1', 'EXT_SOURCE_2',  'EXT_SOURCE_3']\n",
    "\n",
    "categorical_features = ['NAME_CONTRACT_TYPE', 'NAME_TYPE_SUITE', 'NAME_INCOME_TYPE', 'NAME_EDUCATION_TYPE', 'NAME_FAMILY_STATUS', \n",
    "                        'NAME_HOUSING_TYPE', 'OCCUPATION_TYPE', 'ORGANIZATION_TYPE']"
   ]
  },
  {
   "cell_type": "code",
   "execution_count": null,
   "id": "bdbeaf8f-d077-4b4f-98c8-8c05b544dacb",
   "metadata": {},
   "outputs": [],
   "source": [
    "# Création de 2 Pipelines\n",
    "\n",
    "numerical_pipeline = make_pipeline(KNNImputer(),\n",
    "                                   StandardScaler())\n",
    "\n",
    "categorical_pipeline = make_pipeline(SimpleImputer(strategy = 'most_frequent'),\n",
    "                                     OneHotEncoder())"
   ]
  },
  {
   "cell_type": "code",
   "execution_count": null,
   "id": "f24dc172-8af4-40fd-b016-5be9b8819ac9",
   "metadata": {},
   "outputs": [],
   "source": [
    "# Création du ColumnTransformer\n",
    "# numerical_pipeline est appliquée sur les numerical_features\n",
    "# categorical_pipeline est appliquée sur les categorical_features\n",
    "\n",
    "ColumnTransformer = make_column_transformer((numerical_pipeline, numerical_features),\n",
    "                                            (categorical_pipeline, categorical_features))\n",
    "ColumnTransformer"
   ]
  },
  {
   "cell_type": "code",
   "execution_count": null,
   "id": "6dedb4da-ae82-4a76-825c-4a595cf03c79",
   "metadata": {},
   "outputs": [],
   "source": [
    "pipe = Pipeline([(\"columntransformer\", ColumnTransformer),\n",
    "                #  (\"inputer\", KNNImputer()),\n",
    "                #  (\"scaler\", StandardScaler()),\n",
    "                 (\"estimator\", DummyRegressor()),\n",
    "                ])"
   ]
  },
  {
   "cell_type": "code",
   "execution_count": null,
   "id": "defe042a-f7c8-4c86-ab0f-4dbfccb47913",
   "metadata": {},
   "outputs": [],
   "source": [
    "grid2 = GridSearchCV(pipe, param_grid={}, cv=5, verbose=2, return_train_score=True, n_jobs=-1)\n",
    "grid2"
   ]
  },
  {
   "cell_type": "code",
   "execution_count": null,
   "id": "600a4ea2-ef84-46ed-b471-05b145e1df1e",
   "metadata": {},
   "outputs": [],
   "source": [
    "grid2.fit(X, y)"
   ]
  },
  {
   "cell_type": "code",
   "execution_count": null,
   "id": "64b21408-36f4-4521-b1be-490e9bde38d4",
   "metadata": {},
   "outputs": [],
   "source": [
    "resultize(grid2)"
   ]
  }
 ],
 "metadata": {
  "kernelspec": {
   "display_name": "Python 3 (ipykernel)",
   "language": "python",
   "name": "python3"
  },
  "language_info": {
   "codemirror_mode": {
    "name": "ipython",
    "version": 3
   },
   "file_extension": ".py",
   "mimetype": "text/x-python",
   "name": "python",
   "nbconvert_exporter": "python",
   "pygments_lexer": "ipython3",
   "version": "3.10.12"
  }
 },
 "nbformat": 4,
 "nbformat_minor": 5
}
