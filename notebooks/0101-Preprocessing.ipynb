{
 "cells": [
  {
   "cell_type": "markdown",
   "id": "8b21c6f7",
   "metadata": {},
   "source": [
    "# Project 7"
   ]
  },
  {
   "cell_type": "markdown",
   "id": "d9b8f8ee",
   "metadata": {},
   "source": [
    "## Sys Ops"
   ]
  },
  {
   "cell_type": "code",
   "execution_count": null,
   "id": "3053e5ca",
   "metadata": {},
   "outputs": [],
   "source": [
    "cd .."
   ]
  },
  {
   "cell_type": "code",
   "execution_count": null,
   "id": "b4c0293b",
   "metadata": {},
   "outputs": [],
   "source": [
    "pwd"
   ]
  },
  {
   "cell_type": "code",
   "execution_count": null,
   "id": "d0810bff",
   "metadata": {},
   "outputs": [],
   "source": []
  },
  {
   "cell_type": "markdown",
   "id": "0c3afc81",
   "metadata": {},
   "source": [
    "## Imports "
   ]
  },
  {
   "cell_type": "code",
   "execution_count": null,
   "id": "ee1b0b04-81e2-4b48-b69f-fab60e3c4011",
   "metadata": {},
   "outputs": [],
   "source": [
    "import pandas as pd\n",
    "import numpy as np\n",
    "\n",
    "import matplotlib.pyplot as plt\n",
    "import seaborn as sns\n",
    "import plotly.express as px\n",
    "\n",
    "import missingno as msno\n",
    "\n",
    "from sklearn.feature_selection import *\n",
    "from sklearn.feature_extraction import *\n",
    "from sklearn.decomposition import *\n",
    "from sklearn.model_selection import *\n",
    "from sklearn.impute import *\n",
    "from sklearn.preprocessing import *\n",
    "from sklearn.pipeline import *\n",
    "from sklearn.covariance import *\n",
    "from sklearn.metrics import *\n",
    "from sklearn.compose import *\n",
    "\n",
    "from sklearn.dummy import *\n",
    "from sklearn.linear_model import *\n",
    "from sklearn.neighbors import *\n",
    "from sklearn.svm import *\n",
    "from sklearn.ensemble import *\n",
    "from sklearn.cluster import *"
   ]
  },
  {
   "cell_type": "code",
   "execution_count": null,
   "id": "f548f2ba",
   "metadata": {},
   "outputs": [],
   "source": [
    "# DO NOT REMOVE THIS LINE"
   ]
  },
  {
   "cell_type": "code",
   "execution_count": null,
   "id": "ad8a5e19",
   "metadata": {},
   "outputs": [],
   "source": []
  },
  {
   "cell_type": "markdown",
   "id": "e6364b98",
   "metadata": {},
   "source": [
    "## Data"
   ]
  },
  {
   "cell_type": "code",
   "execution_count": null,
   "id": "10a257b2-b23a-444f-8765-5cb5e424b21a",
   "metadata": {},
   "outputs": [],
   "source": [
    "fn = \"application_train.csv\"\n",
    "df = pd.read_csv(\"./data/source/\" + fn)"
   ]
  },
  {
   "cell_type": "code",
   "execution_count": null,
   "id": "622e3060-b13d-4c45-b21d-29e31d119cc5",
   "metadata": {},
   "outputs": [],
   "source": [
    "df.shape"
   ]
  },
  {
   "cell_type": "code",
   "execution_count": null,
   "id": "98a522ab-a078-458e-8ab4-7e5e14450c7f",
   "metadata": {},
   "outputs": [],
   "source": [
    "# df = df.sample(frac=0.10)\n",
    "# df"
   ]
  },
  {
   "cell_type": "code",
   "execution_count": null,
   "id": "7853bcfa-61f8-45f7-a734-ba7937f1b3e8",
   "metadata": {},
   "outputs": [],
   "source": [
    "# filter for correl\n",
    "# df = df.filter(['TARGET', 'NAME_CONTRACT_TYPE', 'CODE_GENDER', 'FLAG_OWN_CAR', 'FLAG_OWN_REALTY', 'CNT_CHILDREN', 'AMT_INCOME_TOTAL', 'AMT_CREDIT',\n",
    "#                'NAME_INCOME_TYPE', 'NAME_EDUCATION_TYPE', 'NAME_FAMILY_STATUS', 'NAME_HOUSING_TYPE', 'DAYS_BIRTH', 'DAYS_EMPLOYED'\n",
    "#                ])\n",
    "\n",
    "df = df.filter(\n",
    "    [\n",
    "        \"TARGET\",\n",
    "        \"NAME_CONTRACT_TYPE\",\n",
    "        \"CODE_GENDER\",\n",
    "        \"FLAG_OWN_CAR\",\n",
    "        \"FLAG_OWN_REALTY\",\n",
    "        \"CNT_CHILDREN\",\n",
    "        \"AMT_INCOME_TOTAL\",\n",
    "        \"AMT_CREDIT\",\n",
    "        \"AMT_ANNUITY\",\n",
    "        \"AMT_GOODS_PRICE\",\n",
    "        \"NAME_TYPE_SUITE\",\n",
    "        \"NAME_INCOME_TYPE\",\n",
    "        \"NAME_EDUCATION_TYPE\",\n",
    "        \"NAME_FAMILY_STATUS\",\n",
    "        \"NAME_HOUSING_TYPE\",\n",
    "        \"DAYS_BIRTH\",\n",
    "        \"DAYS_EMPLOYED\",\n",
    "        \"ORGANIZATION_TYPE\",\n",
    "        \"OCCUPATION_TYPE\",\n",
    "        \"EXT_SOURCE_1\",\n",
    "        \"EXT_SOURCE_2\",\n",
    "        \"EXT_SOURCE_3\",\n",
    "    ]\n",
    ")\n",
    "\n",
    "\n",
    "df"
   ]
  },
  {
   "cell_type": "markdown",
   "id": "02a3daf4",
   "metadata": {},
   "source": [
    "## EDA Exploratory Data Analysis"
   ]
  },
  {
   "cell_type": "code",
   "execution_count": null,
   "id": "8b9574b4-6ac6-4a09-b618-b7d2e9208a23",
   "metadata": {},
   "outputs": [],
   "source": [
    "df.sort_values(\"AMT_INCOME_TOTAL\", ascending=False)"
   ]
  },
  {
   "cell_type": "code",
   "execution_count": null,
   "id": "cce846e3-980e-4396-99b4-f7428fe271a7",
   "metadata": {},
   "outputs": [],
   "source": [
    "df.sort_values(\"AMT_CREDIT\", ascending=False)"
   ]
  },
  {
   "cell_type": "code",
   "execution_count": null,
   "id": "9abbe25c-78bd-463b-b390-69d4e10f17e0",
   "metadata": {},
   "outputs": [],
   "source": [
    "df.sort_values(\"AMT_ANNUITY\", ascending=False)"
   ]
  },
  {
   "cell_type": "code",
   "execution_count": null,
   "id": "345ebb95-3cfd-4de8-b58d-fdaf18979ee8",
   "metadata": {},
   "outputs": [],
   "source": [
    "df.sort_values(\"AMT_GOODS_PRICE\", ascending=False)"
   ]
  },
  {
   "cell_type": "code",
   "execution_count": null,
   "id": "43d7d365-7f9b-4c0c-821a-51854edf28c5",
   "metadata": {},
   "outputs": [],
   "source": [
    "# on exclut ces lignes car elles font planter le fit\n",
    "\n",
    "df = df.drop(df[(df['NAME_INCOME_TYPE'] == 'Businessman')].index)\n",
    "df = df.drop(df[(df['NAME_INCOME_TYPE'] == 'Maternity leave')].index)\n",
    "df = df.drop(df[(df['NAME_INCOME_TYPE'] == 'Student')].index)\n",
    "df = df.drop(df[(df['NAME_INCOME_TYPE'] == 'Unemployed')].index)\n",
    "\n",
    "df = df.drop(df[(df['NAME_FAMILY_STATUS'] == 'Unknown')].index)\n",
    "\n",
    "df"
   ]
  },
  {
   "cell_type": "code",
   "execution_count": null,
   "id": "bd3e150a-048e-47f9-8018-22c3c0c07ae2",
   "metadata": {},
   "outputs": [],
   "source": [
    "df.sort_values(\"DAYS_BIRTH\", ascending=False)"
   ]
  },
  {
   "cell_type": "code",
   "execution_count": null,
   "id": "55c274dc-699d-4302-9af4-759813dadf6d",
   "metadata": {},
   "outputs": [],
   "source": [
    "df.sort_values(\"DAYS_EMPLOYED\", ascending=False)"
   ]
  },
  {
   "cell_type": "code",
   "execution_count": null,
   "id": "d6f0a9d0-e265-4930-829a-d8868a5fcc2f",
   "metadata": {},
   "outputs": [],
   "source": [
    "df.loc[df[\"DAYS_EMPLOYED\"] == 365243, \"DAYS_EMPLOYED\"] = float(\"NaN\")"
   ]
  },
  {
   "cell_type": "code",
   "execution_count": null,
   "id": "a2e39c8e-0e1b-44c7-98b1-1dab0009af0c",
   "metadata": {},
   "outputs": [],
   "source": [
    "df.sort_values(\"DAYS_EMPLOYED\", ascending=False)"
   ]
  },
  {
   "cell_type": "code",
   "execution_count": null,
   "id": "eeb2b593-53a9-490f-9052-41c181ce5ef5",
   "metadata": {},
   "outputs": [],
   "source": [
    "df.sort_values(\"DAYS_EMPLOYED\", ascending=True)"
   ]
  },
  {
   "cell_type": "code",
   "execution_count": null,
   "id": "e3e4c29c-7a05-480b-916c-e1a279aba914",
   "metadata": {},
   "outputs": [],
   "source": [
    "df.loc[df[\"ORGANIZATION_TYPE\"] == \"XNA\", \"ORGANIZATION_TYPE\"] = float(\"NaN\")"
   ]
  },
  {
   "cell_type": "code",
   "execution_count": null,
   "id": "fbbe34aa-dd54-46f8-b9ae-8e750eaa7338",
   "metadata": {},
   "outputs": [],
   "source": [
    "df.TARGET.value_counts(normalize=True)"
   ]
  },
  {
   "cell_type": "code",
   "execution_count": null,
   "id": "5c357a38-fc89-4351-bd14-1c9d1097f53d",
   "metadata": {},
   "outputs": [],
   "source": [
    "df.TARGET.value_counts()"
   ]
  },
  {
   "cell_type": "code",
   "execution_count": null,
   "id": "fce7d9ab-2260-4cdc-ad1b-3cc5de32e39c",
   "metadata": {},
   "outputs": [],
   "source": [
    "# Transformations\n",
    "\n",
    "df.loc[df[\"CODE_GENDER\"] == \"M\", \"CODE_GENDER\"] = 1\n",
    "df.loc[df[\"CODE_GENDER\"] == \"F\", \"CODE_GENDER\"] = 2\n",
    "df.loc[df[\"CODE_GENDER\"] == \"XNA\", \"CODE_GENDER\"] = 2\n",
    "\n",
    "# on transforme la colonne CODE_GENDER en int\n",
    "df.CODE_GENDER = df.CODE_GENDER.astype(\"int\")\n",
    "\n",
    "df.loc[df[\"FLAG_OWN_CAR\"] == \"Y\", \"FLAG_OWN_CAR\"] = 1\n",
    "df.loc[df[\"FLAG_OWN_CAR\"] == \"N\", \"FLAG_OWN_CAR\"] = 0\n",
    "\n",
    "# on transforme la colonne FLAG_OWN_CAR en int\n",
    "df.FLAG_OWN_CAR = df.FLAG_OWN_CAR.astype(\"int\")\n",
    "\n",
    "df.loc[df[\"FLAG_OWN_REALTY\"] == \"Y\", \"FLAG_OWN_REALTY\"] = 1\n",
    "df.loc[df[\"FLAG_OWN_REALTY\"] == \"N\", \"FLAG_OWN_REALTY\"] = 0\n",
    "\n",
    "# on transforme la colonne FLAG_OWN_REALTY en int\n",
    "df.FLAG_OWN_REALTY = df.FLAG_OWN_REALTY.astype(\"int\")\n",
    "\n",
    "df.DAYS_BIRTH = -df.DAYS_BIRTH / 365\n",
    "df.DAYS_EMPLOYED = -df.DAYS_EMPLOYED / 365\n",
    "\n",
    "df.dtypes"
   ]
  },
  {
   "cell_type": "code",
   "execution_count": null,
   "id": "0feef4b5-a9f8-4f5c-a55c-f9a7cfe84fd6",
   "metadata": {},
   "outputs": [],
   "source": [
    "df.isna().mean()"
   ]
  },
  {
   "cell_type": "code",
   "execution_count": null,
   "id": "d9b4fa47",
   "metadata": {},
   "outputs": [],
   "source": [
    "df.select_dtypes(include=\"object\").nunique()"
   ]
  },
  {
   "cell_type": "code",
   "execution_count": null,
   "id": "790ba495",
   "metadata": {},
   "outputs": [],
   "source": [
    "df[\"nan_EXT_SOURCE_1\"] = df.EXT_SOURCE_1.isna().astype(\"int\")\n",
    "\n",
    "# on exclut ORGANIZATION_TYPE, OCCUPATION_TYPE, EXT_SOURCE_1 car trop de NaN\n",
    "df.drop(\n",
    "    columns=[\"ORGANIZATION_TYPE\", \"OCCUPATION_TYPE\", \"EXT_SOURCE_1\"],\n",
    "    inplace=True,\n",
    "    errors=\"ignore\",\n",
    ")\n",
    "\n",
    "df.head()"
   ]
  },
  {
   "cell_type": "code",
   "execution_count": null,
   "id": "472988c7-38ed-4802-9631-7bb56909b048",
   "metadata": {},
   "outputs": [],
   "source": [
    "# df.corr()"
   ]
  },
  {
   "cell_type": "code",
   "execution_count": null,
   "id": "351e3c69",
   "metadata": {},
   "outputs": [],
   "source": [
    "df"
   ]
  },
  {
   "cell_type": "code",
   "execution_count": null,
   "id": "d114b035-d387-4274-af5d-c086541134f0",
   "metadata": {},
   "outputs": [],
   "source": [
    "corr = df.select_dtypes(include=np.number).corr()\n",
    "mask = np.triu(corr)\n",
    "sns.heatmap(corr, annot=True, vmin=-1, vmax=1, cmap=\"coolwarm\", fmt=\".2f\", mask=mask)"
   ]
  },
  {
   "cell_type": "code",
   "execution_count": null,
   "id": "7bece13c-fb09-4a53-9b35-e20f603ce601",
   "metadata": {},
   "outputs": [],
   "source": [
    "# on construit la matrice X des Features\n",
    "X = df.drop(columns=\"TARGET\")\n",
    "X"
   ]
  },
  {
   "cell_type": "code",
   "execution_count": null,
   "id": "f71cb947-dcf5-48c1-834c-7ebaad959ce6",
   "metadata": {},
   "outputs": [],
   "source": [
    "# On construit l vecteur y des Targets\n",
    "y = df[\"TARGET\"]\n",
    "y"
   ]
  },
  {
   "cell_type": "code",
   "execution_count": null,
   "id": "3689898a-c881-4c8e-8011-e4dce7f7c966",
   "metadata": {},
   "outputs": [],
   "source": [
    "y.values"
   ]
  },
  {
   "cell_type": "code",
   "execution_count": null,
   "id": "1ee1d562",
   "metadata": {},
   "outputs": [],
   "source": [
    "df.to_csv(\"./data/preprocessed/df.csv\", index=False)"
   ]
  },
  {
   "cell_type": "code",
   "execution_count": null,
   "id": "fd6cb58f",
   "metadata": {},
   "outputs": [],
   "source": [
    "y.value_counts(normalize=True).round(2)"
   ]
  },
  {
   "cell_type": "code",
   "execution_count": null,
   "id": "cb6d4706",
   "metadata": {},
   "outputs": [],
   "source": []
  }
 ],
 "metadata": {
  "kernelspec": {
   "display_name": "Python 3 (ipykernel)",
   "language": "python",
   "name": "python3"
  },
  "language_info": {
   "codemirror_mode": {
    "name": "ipython",
    "version": 3
   },
   "file_extension": ".py",
   "mimetype": "text/x-python",
   "name": "python",
   "nbconvert_exporter": "python",
   "pygments_lexer": "ipython3",
   "version": "3.10.12"
  }
 },
 "nbformat": 4,
 "nbformat_minor": 5
}
