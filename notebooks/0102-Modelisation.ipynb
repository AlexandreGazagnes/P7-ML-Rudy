{
 "cells": [
  {
   "cell_type": "markdown",
   "id": "8b21c6f7",
   "metadata": {},
   "source": [
    "# Project 7"
   ]
  },
  {
   "cell_type": "markdown",
   "id": "d9b8f8ee",
   "metadata": {},
   "source": [
    "## Sys Ops"
   ]
  },
  {
   "cell_type": "code",
   "execution_count": null,
   "id": "3053e5ca",
   "metadata": {},
   "outputs": [],
   "source": [
    "cd .."
   ]
  },
  {
   "cell_type": "code",
   "execution_count": null,
   "id": "b4c0293b",
   "metadata": {},
   "outputs": [],
   "source": [
    "pwd"
   ]
  },
  {
   "cell_type": "code",
   "execution_count": null,
   "id": "d0810bff",
   "metadata": {},
   "outputs": [],
   "source": []
  },
  {
   "cell_type": "markdown",
   "id": "0c3afc81",
   "metadata": {},
   "source": [
    "## Imports "
   ]
  },
  {
   "cell_type": "code",
   "execution_count": null,
   "id": "ee1b0b04-81e2-4b48-b69f-fab60e3c4011",
   "metadata": {},
   "outputs": [],
   "source": [
    "import pandas as pd\n",
    "import numpy as np\n",
    "\n",
    "import matplotlib.pyplot as plt\n",
    "import seaborn as sns\n",
    "import plotly.express as px\n",
    "\n",
    "import missingno as msno\n",
    "\n",
    "from sklearn.feature_selection import *\n",
    "from sklearn.feature_extraction import *\n",
    "from sklearn.decomposition import *\n",
    "from sklearn.model_selection import *\n",
    "from sklearn.impute import *\n",
    "from sklearn.preprocessing import *\n",
    "from sklearn.pipeline import *\n",
    "from sklearn.covariance import *\n",
    "from sklearn.metrics import *\n",
    "from sklearn.compose import *\n",
    "\n",
    "from sklearn.dummy import *\n",
    "from sklearn.linear_model import *\n",
    "from sklearn.neighbors import *\n",
    "from sklearn.svm import *\n",
    "from sklearn.ensemble import *\n",
    "from sklearn.cluster import *\n",
    "\n",
    "\n",
    "from imblearn.pipeline import Pipeline\n",
    "from imblearn.under_sampling import RandomUnderSampler\n",
    "from sklearn.ensemble import RandomForestClassifier\n",
    "from sklearn.linear_model import LogisticRegression\n",
    "from sklearn.dummy import DummyClassifier"
   ]
  },
  {
   "cell_type": "code",
   "execution_count": null,
   "id": "f548f2ba",
   "metadata": {},
   "outputs": [],
   "source": [
    "# DO NOT REMOVE THIS LINE"
   ]
  },
  {
   "cell_type": "code",
   "execution_count": null,
   "id": "ad8a5e19",
   "metadata": {},
   "outputs": [],
   "source": []
  },
  {
   "cell_type": "markdown",
   "id": "e6364b98",
   "metadata": {},
   "source": [
    "## Data"
   ]
  },
  {
   "cell_type": "code",
   "execution_count": null,
   "id": "10a257b2-b23a-444f-8765-5cb5e424b21a",
   "metadata": {},
   "outputs": [],
   "source": [
    "fn = \"df.csv\"\n",
    "df = pd.read_csv(\"./data/preprocessed/\" + fn)"
   ]
  },
  {
   "cell_type": "code",
   "execution_count": null,
   "id": "622e3060-b13d-4c45-b21d-29e31d119cc5",
   "metadata": {},
   "outputs": [],
   "source": [
    "df.shape"
   ]
  },
  {
   "cell_type": "code",
   "execution_count": null,
   "id": "98a522ab-a078-458e-8ab4-7e5e14450c7f",
   "metadata": {},
   "outputs": [],
   "source": [
    "df = df.sample(frac=0.10)\n",
    "df"
   ]
  },
  {
   "cell_type": "code",
   "execution_count": null,
   "id": "8b619ba1",
   "metadata": {},
   "outputs": [],
   "source": []
  },
  {
   "cell_type": "code",
   "execution_count": null,
   "id": "d0985d58",
   "metadata": {},
   "outputs": [],
   "source": [
    "X = df.drop(columns=[\"TARGET\"])\n",
    "y  = df[\"TARGET\"]"
   ]
  },
  {
   "cell_type": "code",
   "execution_count": null,
   "id": "848b60b3",
   "metadata": {},
   "outputs": [],
   "source": [
    "y.value_counts(normalize=True).round(2)"
   ]
  },
  {
   "cell_type": "code",
   "execution_count": null,
   "id": "8be5c761-d79e-46e6-b7ea-65241174a65e",
   "metadata": {},
   "outputs": [],
   "source": [
    "def resultize(grid, verbose=2):\n",
    "    \"\"\"make results based on gridsearchcv\"\"\"\n",
    "\n",
    "    # make df\n",
    "    results = pd.DataFrame(grid.cv_results_)\n",
    "\n",
    "    # clean columns\n",
    "    cols = [i for i in results.columns if not i.startswith(\"split\")]\n",
    "    results = results.loc[:, cols]\n",
    "\n",
    "    if verbose == 2:\n",
    "        print(\"coucou\")\n",
    "\n",
    "    return results.round(2)"
   ]
  },
  {
   "cell_type": "code",
   "execution_count": null,
   "id": "e8b6683e-524d-4cb3-ba45-5d00cedc815b",
   "metadata": {},
   "outputs": [],
   "source": [
    "X_train, X_test, y_train, y_test = train_test_split(X, y, test_size=0.25)"
   ]
  },
  {
   "cell_type": "code",
   "execution_count": null,
   "id": "29e3990c-f2cc-4211-a5e9-2d4c5d354a42",
   "metadata": {},
   "outputs": [],
   "source": [
    "y_train.value_counts(normalize=True)"
   ]
  },
  {
   "cell_type": "code",
   "execution_count": null,
   "id": "516bf052-4998-4de6-9957-b207d516be11",
   "metadata": {},
   "outputs": [],
   "source": [
    "y_test.value_counts(normalize=True)"
   ]
  },
  {
   "cell_type": "markdown",
   "id": "84ad17a5",
   "metadata": {},
   "source": [
    "## Modelisation"
   ]
  },
  {
   "cell_type": "markdown",
   "id": "97f3dbb4-6af2-4fad-8cad-b12f78a158e9",
   "metadata": {},
   "source": [
    "### Refactoring avec utilisation de Pipeline "
   ]
  },
  {
   "cell_type": "markdown",
   "id": "6c377040-b6bd-4662-b12c-4a166281495d",
   "metadata": {},
   "source": [
    "### Création du ColumnTransformer"
   ]
  },
  {
   "cell_type": "code",
   "execution_count": null,
   "id": "09e2fc76-9154-44e6-8ebe-f0beb1068a1f",
   "metadata": {},
   "outputs": [],
   "source": [
    "numerical_features = [\n",
    "    \"CODE_GENDER\",\n",
    "    \"FLAG_OWN_CAR\",\n",
    "    \"FLAG_OWN_REALTY\",\n",
    "    \"CNT_CHILDREN\",\n",
    "    \"AMT_INCOME_TOTAL\",\n",
    "    \"AMT_CREDIT\",\n",
    "    \"AMT_ANNUITY\",\n",
    "    \"AMT_GOODS_PRICE\",\n",
    "    \"DAYS_BIRTH\",\n",
    "    \"DAYS_EMPLOYED\",\n",
    "    # \"EXT_SOURCE_1\",\n",
    "    \"EXT_SOURCE_2\",\n",
    "    \"EXT_SOURCE_3\",\n",
    "]\n",
    "\n",
    "categorical_features = [\n",
    "    \"NAME_CONTRACT_TYPE\",\n",
    "    \"NAME_TYPE_SUITE\",\n",
    "    \"NAME_INCOME_TYPE\",\n",
    "    \"NAME_EDUCATION_TYPE\",\n",
    "    \"NAME_FAMILY_STATUS\",\n",
    "    \"NAME_HOUSING_TYPE\",\n",
    "    # \"OCCUPATION_TYPE\",\n",
    "    # \"ORGANIZATION_TYPE\",\n",
    "]"
   ]
  },
  {
   "cell_type": "code",
   "execution_count": null,
   "id": "bdbeaf8f-d077-4b4f-98c8-8c05b544dacb",
   "metadata": {},
   "outputs": [],
   "source": [
    "# Création de 2 Pipelines\n",
    "\n",
    "numerical_pipeline = make_pipeline(KNNImputer(), StandardScaler())\n",
    "\n",
    "categorical_pipeline = make_pipeline(\n",
    "    SimpleImputer(strategy=\"most_frequent\"), OneHotEncoder()\n",
    ")"
   ]
  },
  {
   "cell_type": "code",
   "execution_count": null,
   "id": "f24dc172-8af4-40fd-b016-5be9b8819ac9",
   "metadata": {},
   "outputs": [],
   "source": [
    "# Création du ColumnTransformer\n",
    "# numerical_pipeline est appliquée sur les numerical_features\n",
    "# categorical_pipeline est appliquée sur les categorical_features\n",
    "\n",
    "ColumnTransformer = make_column_transformer(\n",
    "    (numerical_pipeline, numerical_features),\n",
    "    (categorical_pipeline, categorical_features),\n",
    ")\n",
    "ColumnTransformer"
   ]
  },
  {
   "cell_type": "code",
   "execution_count": null,
   "id": "6dedb4da-ae82-4a76-825c-4a595cf03c79",
   "metadata": {},
   "outputs": [],
   "source": [
    "\n",
    "\n",
    "pipe = Pipeline(\n",
    "    [\n",
    "        (\"columntransformer\", ColumnTransformer),\n",
    "        #  (\"inputer\", KNNImputer()),\n",
    "        #  (\"scaler\", StandardScaler()),\n",
    "        ('under_sampler', RandomUnderSampler()),\n",
    "        (\"estimator\", DummyClassifier()),\n",
    "    ]\n",
    ")"
   ]
  },
  {
   "cell_type": "code",
   "execution_count": null,
   "id": "defe042a-f7c8-4c86-ab0f-4dbfccb47913",
   "metadata": {},
   "outputs": [],
   "source": [
    "param_grid = {\n",
    "    \"estimator\": [\n",
    "        DummyClassifier(),\n",
    "        LogisticRegression(),\n",
    "        RandomForestClassifier(),\n",
    "    ],\n",
    "}"
   ]
  },
  {
   "cell_type": "code",
   "execution_count": null,
   "id": "ab2de904",
   "metadata": {},
   "outputs": [],
   "source": [
    "grid2 = GridSearchCV(\n",
    "    pipe,\n",
    "    param_grid=param_grid,\n",
    "    cv=5,\n",
    "    verbose=2,\n",
    "    return_train_score=True,\n",
    "    n_jobs=-1,\n",
    "    error_score='raise'\n",
    ")\n",
    "grid2"
   ]
  },
  {
   "cell_type": "code",
   "execution_count": null,
   "id": "600a4ea2-ef84-46ed-b471-05b145e1df1e",
   "metadata": {},
   "outputs": [],
   "source": [
    "grid2.fit(X_train, y_train)"
   ]
  },
  {
   "cell_type": "code",
   "execution_count": null,
   "id": "64b21408-36f4-4521-b1be-490e9bde38d4",
   "metadata": {},
   "outputs": [],
   "source": [
    "resultize(grid2)"
   ]
  },
  {
   "cell_type": "code",
   "execution_count": null,
   "id": "401b4dfb",
   "metadata": {},
   "outputs": [],
   "source": [
    "grid2.cv_results_"
   ]
  },
  {
   "cell_type": "code",
   "execution_count": null,
   "id": "24222fe8-00df-4768-9585-6460ba568342",
   "metadata": {},
   "outputs": [],
   "source": []
  }
 ],
 "metadata": {
  "kernelspec": {
   "display_name": "Python 3 (ipykernel)",
   "language": "python",
   "name": "python3"
  },
  "language_info": {
   "codemirror_mode": {
    "name": "ipython",
    "version": 3
   },
   "file_extension": ".py",
   "mimetype": "text/x-python",
   "name": "python",
   "nbconvert_exporter": "python",
   "pygments_lexer": "ipython3",
   "version": "3.10.12"
  }
 },
 "nbformat": 4,
 "nbformat_minor": 5
}
