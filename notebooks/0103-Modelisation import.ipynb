{
 "cells": [
  {
   "cell_type": "markdown",
   "id": "8b21c6f7",
   "metadata": {},
   "source": [
    "# Project 7"
   ]
  },
  {
   "cell_type": "markdown",
   "id": "d9b8f8ee",
   "metadata": {},
   "source": [
    "## Import of the model"
   ]
  },
  {
   "cell_type": "code",
   "execution_count": 1,
   "id": "cd6e74a3-56ad-493d-838f-2b597ac1fbeb",
   "metadata": {},
   "outputs": [],
   "source": [
    "import pandas as pd\n",
    "import numpy as np"
   ]
  },
  {
   "cell_type": "code",
   "execution_count": 2,
   "id": "14ad25b4-a4d2-462d-8718-78639cdd34e2",
   "metadata": {},
   "outputs": [],
   "source": [
    "import joblib\n",
    "\n",
    "# Sauvegarder GridSearchCV\n",
    "grid2 = joblib.load('grid2_export.joblib')"
   ]
  },
  {
   "cell_type": "markdown",
   "id": "0ad3587c-0330-407d-b631-ba4c3f8cec3a",
   "metadata": {},
   "source": [
    "## Feature Importance"
   ]
  },
  {
   "cell_type": "code",
   "execution_count": 3,
   "id": "8d0fe49f-1be0-425b-a5f9-75b150df2f42",
   "metadata": {},
   "outputs": [
    {
     "data": {
      "text/html": [
       "<style>#sk-container-id-1 {color: black;}#sk-container-id-1 pre{padding: 0;}#sk-container-id-1 div.sk-toggleable {background-color: white;}#sk-container-id-1 label.sk-toggleable__label {cursor: pointer;display: block;width: 100%;margin-bottom: 0;padding: 0.3em;box-sizing: border-box;text-align: center;}#sk-container-id-1 label.sk-toggleable__label-arrow:before {content: \"▸\";float: left;margin-right: 0.25em;color: #696969;}#sk-container-id-1 label.sk-toggleable__label-arrow:hover:before {color: black;}#sk-container-id-1 div.sk-estimator:hover label.sk-toggleable__label-arrow:before {color: black;}#sk-container-id-1 div.sk-toggleable__content {max-height: 0;max-width: 0;overflow: hidden;text-align: left;background-color: #f0f8ff;}#sk-container-id-1 div.sk-toggleable__content pre {margin: 0.2em;color: black;border-radius: 0.25em;background-color: #f0f8ff;}#sk-container-id-1 input.sk-toggleable__control:checked~div.sk-toggleable__content {max-height: 200px;max-width: 100%;overflow: auto;}#sk-container-id-1 input.sk-toggleable__control:checked~label.sk-toggleable__label-arrow:before {content: \"▾\";}#sk-container-id-1 div.sk-estimator input.sk-toggleable__control:checked~label.sk-toggleable__label {background-color: #d4ebff;}#sk-container-id-1 div.sk-label input.sk-toggleable__control:checked~label.sk-toggleable__label {background-color: #d4ebff;}#sk-container-id-1 input.sk-hidden--visually {border: 0;clip: rect(1px 1px 1px 1px);clip: rect(1px, 1px, 1px, 1px);height: 1px;margin: -1px;overflow: hidden;padding: 0;position: absolute;width: 1px;}#sk-container-id-1 div.sk-estimator {font-family: monospace;background-color: #f0f8ff;border: 1px dotted black;border-radius: 0.25em;box-sizing: border-box;margin-bottom: 0.5em;}#sk-container-id-1 div.sk-estimator:hover {background-color: #d4ebff;}#sk-container-id-1 div.sk-parallel-item::after {content: \"\";width: 100%;border-bottom: 1px solid gray;flex-grow: 1;}#sk-container-id-1 div.sk-label:hover label.sk-toggleable__label {background-color: #d4ebff;}#sk-container-id-1 div.sk-serial::before {content: \"\";position: absolute;border-left: 1px solid gray;box-sizing: border-box;top: 0;bottom: 0;left: 50%;z-index: 0;}#sk-container-id-1 div.sk-serial {display: flex;flex-direction: column;align-items: center;background-color: white;padding-right: 0.2em;padding-left: 0.2em;position: relative;}#sk-container-id-1 div.sk-item {position: relative;z-index: 1;}#sk-container-id-1 div.sk-parallel {display: flex;align-items: stretch;justify-content: center;background-color: white;position: relative;}#sk-container-id-1 div.sk-item::before, #sk-container-id-1 div.sk-parallel-item::before {content: \"\";position: absolute;border-left: 1px solid gray;box-sizing: border-box;top: 0;bottom: 0;left: 50%;z-index: -1;}#sk-container-id-1 div.sk-parallel-item {display: flex;flex-direction: column;z-index: 1;position: relative;background-color: white;}#sk-container-id-1 div.sk-parallel-item:first-child::after {align-self: flex-end;width: 50%;}#sk-container-id-1 div.sk-parallel-item:last-child::after {align-self: flex-start;width: 50%;}#sk-container-id-1 div.sk-parallel-item:only-child::after {width: 0;}#sk-container-id-1 div.sk-dashed-wrapped {border: 1px dashed gray;margin: 0 0.4em 0.5em 0.4em;box-sizing: border-box;padding-bottom: 0.4em;background-color: white;}#sk-container-id-1 div.sk-label label {font-family: monospace;font-weight: bold;display: inline-block;line-height: 1.2em;}#sk-container-id-1 div.sk-label-container {text-align: center;}#sk-container-id-1 div.sk-container {/* jupyter's `normalize.less` sets `[hidden] { display: none; }` but bootstrap.min.css set `[hidden] { display: none !important; }` so we also need the `!important` here to be able to override the default hidden behavior on the sphinx rendered scikit-learn.org. See: https://github.com/scikit-learn/scikit-learn/issues/21755 */display: inline-block !important;position: relative;}#sk-container-id-1 div.sk-text-repr-fallback {display: none;}</style><div id=\"sk-container-id-1\" class=\"sk-top-container\"><div class=\"sk-text-repr-fallback\"><pre>Pipeline(steps=[(&#x27;columntransformer&#x27;,\n",
       "                 ColumnTransformer(transformers=[(&#x27;pipeline-1&#x27;,\n",
       "                                                  Pipeline(steps=[(&#x27;knnimputer&#x27;,\n",
       "                                                                   KNNImputer()),\n",
       "                                                                  (&#x27;standardscaler&#x27;,\n",
       "                                                                   StandardScaler())]),\n",
       "                                                  [&#x27;CODE_GENDER&#x27;,\n",
       "                                                   &#x27;FLAG_OWN_CAR&#x27;,\n",
       "                                                   &#x27;FLAG_OWN_REALTY&#x27;,\n",
       "                                                   &#x27;CNT_CHILDREN&#x27;,\n",
       "                                                   &#x27;AMT_INCOME_TOTAL&#x27;,\n",
       "                                                   &#x27;AMT_CREDIT&#x27;, &#x27;AMT_ANNUITY&#x27;,\n",
       "                                                   &#x27;AMT_GOODS_PRICE&#x27;,\n",
       "                                                   &#x27;DAYS_BIRTH&#x27;,\n",
       "                                                   &#x27;DAYS_EMPLOYED&#x27;,\n",
       "                                                   &#x27;EXT_SOURCE_2&#x27;,\n",
       "                                                   &#x27;EXT_SOURCE_3&#x27;]),\n",
       "                                                 (&#x27;pipeline-2&#x27;,\n",
       "                                                  Pipeline(steps=[(&#x27;simpleimputer&#x27;,\n",
       "                                                                   SimpleImputer(strategy=&#x27;most_frequent&#x27;)),\n",
       "                                                                  (&#x27;onehotencoder&#x27;,\n",
       "                                                                   OneHotEncoder())]),\n",
       "                                                  [&#x27;NAME_CONTRACT_TYPE&#x27;,\n",
       "                                                   &#x27;NAME_TYPE_SUITE&#x27;,\n",
       "                                                   &#x27;NAME_INCOME_TYPE&#x27;,\n",
       "                                                   &#x27;NAME_EDUCATION_TYPE&#x27;,\n",
       "                                                   &#x27;NAME_FAMILY_STATUS&#x27;,\n",
       "                                                   &#x27;NAME_HOUSING_TYPE&#x27;])])),\n",
       "                (&#x27;under_sampler&#x27;, RandomUnderSampler()),\n",
       "                (&#x27;estimator&#x27;, LogisticRegression())])</pre><b>In a Jupyter environment, please rerun this cell to show the HTML representation or trust the notebook. <br />On GitHub, the HTML representation is unable to render, please try loading this page with nbviewer.org.</b></div><div class=\"sk-container\" hidden><div class=\"sk-item sk-dashed-wrapped\"><div class=\"sk-label-container\"><div class=\"sk-label sk-toggleable\"><input class=\"sk-toggleable__control sk-hidden--visually\" id=\"sk-estimator-id-1\" type=\"checkbox\" ><label for=\"sk-estimator-id-1\" class=\"sk-toggleable__label sk-toggleable__label-arrow\">Pipeline</label><div class=\"sk-toggleable__content\"><pre>Pipeline(steps=[(&#x27;columntransformer&#x27;,\n",
       "                 ColumnTransformer(transformers=[(&#x27;pipeline-1&#x27;,\n",
       "                                                  Pipeline(steps=[(&#x27;knnimputer&#x27;,\n",
       "                                                                   KNNImputer()),\n",
       "                                                                  (&#x27;standardscaler&#x27;,\n",
       "                                                                   StandardScaler())]),\n",
       "                                                  [&#x27;CODE_GENDER&#x27;,\n",
       "                                                   &#x27;FLAG_OWN_CAR&#x27;,\n",
       "                                                   &#x27;FLAG_OWN_REALTY&#x27;,\n",
       "                                                   &#x27;CNT_CHILDREN&#x27;,\n",
       "                                                   &#x27;AMT_INCOME_TOTAL&#x27;,\n",
       "                                                   &#x27;AMT_CREDIT&#x27;, &#x27;AMT_ANNUITY&#x27;,\n",
       "                                                   &#x27;AMT_GOODS_PRICE&#x27;,\n",
       "                                                   &#x27;DAYS_BIRTH&#x27;,\n",
       "                                                   &#x27;DAYS_EMPLOYED&#x27;,\n",
       "                                                   &#x27;EXT_SOURCE_2&#x27;,\n",
       "                                                   &#x27;EXT_SOURCE_3&#x27;]),\n",
       "                                                 (&#x27;pipeline-2&#x27;,\n",
       "                                                  Pipeline(steps=[(&#x27;simpleimputer&#x27;,\n",
       "                                                                   SimpleImputer(strategy=&#x27;most_frequent&#x27;)),\n",
       "                                                                  (&#x27;onehotencoder&#x27;,\n",
       "                                                                   OneHotEncoder())]),\n",
       "                                                  [&#x27;NAME_CONTRACT_TYPE&#x27;,\n",
       "                                                   &#x27;NAME_TYPE_SUITE&#x27;,\n",
       "                                                   &#x27;NAME_INCOME_TYPE&#x27;,\n",
       "                                                   &#x27;NAME_EDUCATION_TYPE&#x27;,\n",
       "                                                   &#x27;NAME_FAMILY_STATUS&#x27;,\n",
       "                                                   &#x27;NAME_HOUSING_TYPE&#x27;])])),\n",
       "                (&#x27;under_sampler&#x27;, RandomUnderSampler()),\n",
       "                (&#x27;estimator&#x27;, LogisticRegression())])</pre></div></div></div><div class=\"sk-serial\"><div class=\"sk-item sk-dashed-wrapped\"><div class=\"sk-label-container\"><div class=\"sk-label sk-toggleable\"><input class=\"sk-toggleable__control sk-hidden--visually\" id=\"sk-estimator-id-2\" type=\"checkbox\" ><label for=\"sk-estimator-id-2\" class=\"sk-toggleable__label sk-toggleable__label-arrow\">columntransformer: ColumnTransformer</label><div class=\"sk-toggleable__content\"><pre>ColumnTransformer(transformers=[(&#x27;pipeline-1&#x27;,\n",
       "                                 Pipeline(steps=[(&#x27;knnimputer&#x27;, KNNImputer()),\n",
       "                                                 (&#x27;standardscaler&#x27;,\n",
       "                                                  StandardScaler())]),\n",
       "                                 [&#x27;CODE_GENDER&#x27;, &#x27;FLAG_OWN_CAR&#x27;,\n",
       "                                  &#x27;FLAG_OWN_REALTY&#x27;, &#x27;CNT_CHILDREN&#x27;,\n",
       "                                  &#x27;AMT_INCOME_TOTAL&#x27;, &#x27;AMT_CREDIT&#x27;,\n",
       "                                  &#x27;AMT_ANNUITY&#x27;, &#x27;AMT_GOODS_PRICE&#x27;,\n",
       "                                  &#x27;DAYS_BIRTH&#x27;, &#x27;DAYS_EMPLOYED&#x27;, &#x27;EXT_SOURCE_2&#x27;,\n",
       "                                  &#x27;EXT_SOURCE_3&#x27;]),\n",
       "                                (&#x27;pipeline-2&#x27;,\n",
       "                                 Pipeline(steps=[(&#x27;simpleimputer&#x27;,\n",
       "                                                  SimpleImputer(strategy=&#x27;most_frequent&#x27;)),\n",
       "                                                 (&#x27;onehotencoder&#x27;,\n",
       "                                                  OneHotEncoder())]),\n",
       "                                 [&#x27;NAME_CONTRACT_TYPE&#x27;, &#x27;NAME_TYPE_SUITE&#x27;,\n",
       "                                  &#x27;NAME_INCOME_TYPE&#x27;, &#x27;NAME_EDUCATION_TYPE&#x27;,\n",
       "                                  &#x27;NAME_FAMILY_STATUS&#x27;, &#x27;NAME_HOUSING_TYPE&#x27;])])</pre></div></div></div><div class=\"sk-parallel\"><div class=\"sk-parallel-item\"><div class=\"sk-item\"><div class=\"sk-label-container\"><div class=\"sk-label sk-toggleable\"><input class=\"sk-toggleable__control sk-hidden--visually\" id=\"sk-estimator-id-3\" type=\"checkbox\" ><label for=\"sk-estimator-id-3\" class=\"sk-toggleable__label sk-toggleable__label-arrow\">pipeline-1</label><div class=\"sk-toggleable__content\"><pre>[&#x27;CODE_GENDER&#x27;, &#x27;FLAG_OWN_CAR&#x27;, &#x27;FLAG_OWN_REALTY&#x27;, &#x27;CNT_CHILDREN&#x27;, &#x27;AMT_INCOME_TOTAL&#x27;, &#x27;AMT_CREDIT&#x27;, &#x27;AMT_ANNUITY&#x27;, &#x27;AMT_GOODS_PRICE&#x27;, &#x27;DAYS_BIRTH&#x27;, &#x27;DAYS_EMPLOYED&#x27;, &#x27;EXT_SOURCE_2&#x27;, &#x27;EXT_SOURCE_3&#x27;]</pre></div></div></div><div class=\"sk-serial\"><div class=\"sk-item\"><div class=\"sk-serial\"><div class=\"sk-item\"><div class=\"sk-estimator sk-toggleable\"><input class=\"sk-toggleable__control sk-hidden--visually\" id=\"sk-estimator-id-4\" type=\"checkbox\" ><label for=\"sk-estimator-id-4\" class=\"sk-toggleable__label sk-toggleable__label-arrow\">KNNImputer</label><div class=\"sk-toggleable__content\"><pre>KNNImputer()</pre></div></div></div><div class=\"sk-item\"><div class=\"sk-estimator sk-toggleable\"><input class=\"sk-toggleable__control sk-hidden--visually\" id=\"sk-estimator-id-5\" type=\"checkbox\" ><label for=\"sk-estimator-id-5\" class=\"sk-toggleable__label sk-toggleable__label-arrow\">StandardScaler</label><div class=\"sk-toggleable__content\"><pre>StandardScaler()</pre></div></div></div></div></div></div></div></div><div class=\"sk-parallel-item\"><div class=\"sk-item\"><div class=\"sk-label-container\"><div class=\"sk-label sk-toggleable\"><input class=\"sk-toggleable__control sk-hidden--visually\" id=\"sk-estimator-id-6\" type=\"checkbox\" ><label for=\"sk-estimator-id-6\" class=\"sk-toggleable__label sk-toggleable__label-arrow\">pipeline-2</label><div class=\"sk-toggleable__content\"><pre>[&#x27;NAME_CONTRACT_TYPE&#x27;, &#x27;NAME_TYPE_SUITE&#x27;, &#x27;NAME_INCOME_TYPE&#x27;, &#x27;NAME_EDUCATION_TYPE&#x27;, &#x27;NAME_FAMILY_STATUS&#x27;, &#x27;NAME_HOUSING_TYPE&#x27;]</pre></div></div></div><div class=\"sk-serial\"><div class=\"sk-item\"><div class=\"sk-serial\"><div class=\"sk-item\"><div class=\"sk-estimator sk-toggleable\"><input class=\"sk-toggleable__control sk-hidden--visually\" id=\"sk-estimator-id-7\" type=\"checkbox\" ><label for=\"sk-estimator-id-7\" class=\"sk-toggleable__label sk-toggleable__label-arrow\">SimpleImputer</label><div class=\"sk-toggleable__content\"><pre>SimpleImputer(strategy=&#x27;most_frequent&#x27;)</pre></div></div></div><div class=\"sk-item\"><div class=\"sk-estimator sk-toggleable\"><input class=\"sk-toggleable__control sk-hidden--visually\" id=\"sk-estimator-id-8\" type=\"checkbox\" ><label for=\"sk-estimator-id-8\" class=\"sk-toggleable__label sk-toggleable__label-arrow\">OneHotEncoder</label><div class=\"sk-toggleable__content\"><pre>OneHotEncoder()</pre></div></div></div></div></div></div></div></div></div></div><div class=\"sk-item\"><div class=\"sk-estimator sk-toggleable\"><input class=\"sk-toggleable__control sk-hidden--visually\" id=\"sk-estimator-id-9\" type=\"checkbox\" ><label for=\"sk-estimator-id-9\" class=\"sk-toggleable__label sk-toggleable__label-arrow\">RandomUnderSampler</label><div class=\"sk-toggleable__content\"><pre>RandomUnderSampler()</pre></div></div></div><div class=\"sk-item\"><div class=\"sk-estimator sk-toggleable\"><input class=\"sk-toggleable__control sk-hidden--visually\" id=\"sk-estimator-id-10\" type=\"checkbox\" ><label for=\"sk-estimator-id-10\" class=\"sk-toggleable__label sk-toggleable__label-arrow\">LogisticRegression</label><div class=\"sk-toggleable__content\"><pre>LogisticRegression()</pre></div></div></div></div></div></div></div>"
      ],
      "text/plain": [
       "Pipeline(steps=[('columntransformer',\n",
       "                 ColumnTransformer(transformers=[('pipeline-1',\n",
       "                                                  Pipeline(steps=[('knnimputer',\n",
       "                                                                   KNNImputer()),\n",
       "                                                                  ('standardscaler',\n",
       "                                                                   StandardScaler())]),\n",
       "                                                  ['CODE_GENDER',\n",
       "                                                   'FLAG_OWN_CAR',\n",
       "                                                   'FLAG_OWN_REALTY',\n",
       "                                                   'CNT_CHILDREN',\n",
       "                                                   'AMT_INCOME_TOTAL',\n",
       "                                                   'AMT_CREDIT', 'AMT_ANNUITY',\n",
       "                                                   'AMT_GOODS_PRICE',\n",
       "                                                   'DAYS_BIRTH',\n",
       "                                                   'DAYS_EMPLOYED',\n",
       "                                                   'EXT_SOURCE_2',\n",
       "                                                   'EXT_SOURCE_3']),\n",
       "                                                 ('pipeline-2',\n",
       "                                                  Pipeline(steps=[('simpleimputer',\n",
       "                                                                   SimpleImputer(strategy='most_frequent')),\n",
       "                                                                  ('onehotencoder',\n",
       "                                                                   OneHotEncoder())]),\n",
       "                                                  ['NAME_CONTRACT_TYPE',\n",
       "                                                   'NAME_TYPE_SUITE',\n",
       "                                                   'NAME_INCOME_TYPE',\n",
       "                                                   'NAME_EDUCATION_TYPE',\n",
       "                                                   'NAME_FAMILY_STATUS',\n",
       "                                                   'NAME_HOUSING_TYPE'])])),\n",
       "                ('under_sampler', RandomUnderSampler()),\n",
       "                ('estimator', LogisticRegression())])"
      ]
     },
     "execution_count": 3,
     "metadata": {},
     "output_type": "execute_result"
    }
   ],
   "source": [
    "# Récupération du meilleur modèle\n",
    "best_estimator = grid2.best_estimator_\n",
    "best_estimator"
   ]
  },
  {
   "cell_type": "code",
   "execution_count": 4,
   "id": "0fc7a75c-a3c7-472f-8251-689075cab14c",
   "metadata": {},
   "outputs": [
    {
     "data": {
      "text/plain": [
       "0.6681466075060084"
      ]
     },
     "execution_count": 4,
     "metadata": {},
     "output_type": "execute_result"
    }
   ],
   "source": [
    "best_score = grid2.best_score_\n",
    "best_score"
   ]
  },
  {
   "cell_type": "code",
   "execution_count": 5,
   "id": "a8194938-5b88-4eca-8bc0-00fc20323845",
   "metadata": {},
   "outputs": [
    {
     "data": {
      "text/html": [
       "<style>#sk-container-id-2 {color: black;}#sk-container-id-2 pre{padding: 0;}#sk-container-id-2 div.sk-toggleable {background-color: white;}#sk-container-id-2 label.sk-toggleable__label {cursor: pointer;display: block;width: 100%;margin-bottom: 0;padding: 0.3em;box-sizing: border-box;text-align: center;}#sk-container-id-2 label.sk-toggleable__label-arrow:before {content: \"▸\";float: left;margin-right: 0.25em;color: #696969;}#sk-container-id-2 label.sk-toggleable__label-arrow:hover:before {color: black;}#sk-container-id-2 div.sk-estimator:hover label.sk-toggleable__label-arrow:before {color: black;}#sk-container-id-2 div.sk-toggleable__content {max-height: 0;max-width: 0;overflow: hidden;text-align: left;background-color: #f0f8ff;}#sk-container-id-2 div.sk-toggleable__content pre {margin: 0.2em;color: black;border-radius: 0.25em;background-color: #f0f8ff;}#sk-container-id-2 input.sk-toggleable__control:checked~div.sk-toggleable__content {max-height: 200px;max-width: 100%;overflow: auto;}#sk-container-id-2 input.sk-toggleable__control:checked~label.sk-toggleable__label-arrow:before {content: \"▾\";}#sk-container-id-2 div.sk-estimator input.sk-toggleable__control:checked~label.sk-toggleable__label {background-color: #d4ebff;}#sk-container-id-2 div.sk-label input.sk-toggleable__control:checked~label.sk-toggleable__label {background-color: #d4ebff;}#sk-container-id-2 input.sk-hidden--visually {border: 0;clip: rect(1px 1px 1px 1px);clip: rect(1px, 1px, 1px, 1px);height: 1px;margin: -1px;overflow: hidden;padding: 0;position: absolute;width: 1px;}#sk-container-id-2 div.sk-estimator {font-family: monospace;background-color: #f0f8ff;border: 1px dotted black;border-radius: 0.25em;box-sizing: border-box;margin-bottom: 0.5em;}#sk-container-id-2 div.sk-estimator:hover {background-color: #d4ebff;}#sk-container-id-2 div.sk-parallel-item::after {content: \"\";width: 100%;border-bottom: 1px solid gray;flex-grow: 1;}#sk-container-id-2 div.sk-label:hover label.sk-toggleable__label {background-color: #d4ebff;}#sk-container-id-2 div.sk-serial::before {content: \"\";position: absolute;border-left: 1px solid gray;box-sizing: border-box;top: 0;bottom: 0;left: 50%;z-index: 0;}#sk-container-id-2 div.sk-serial {display: flex;flex-direction: column;align-items: center;background-color: white;padding-right: 0.2em;padding-left: 0.2em;position: relative;}#sk-container-id-2 div.sk-item {position: relative;z-index: 1;}#sk-container-id-2 div.sk-parallel {display: flex;align-items: stretch;justify-content: center;background-color: white;position: relative;}#sk-container-id-2 div.sk-item::before, #sk-container-id-2 div.sk-parallel-item::before {content: \"\";position: absolute;border-left: 1px solid gray;box-sizing: border-box;top: 0;bottom: 0;left: 50%;z-index: -1;}#sk-container-id-2 div.sk-parallel-item {display: flex;flex-direction: column;z-index: 1;position: relative;background-color: white;}#sk-container-id-2 div.sk-parallel-item:first-child::after {align-self: flex-end;width: 50%;}#sk-container-id-2 div.sk-parallel-item:last-child::after {align-self: flex-start;width: 50%;}#sk-container-id-2 div.sk-parallel-item:only-child::after {width: 0;}#sk-container-id-2 div.sk-dashed-wrapped {border: 1px dashed gray;margin: 0 0.4em 0.5em 0.4em;box-sizing: border-box;padding-bottom: 0.4em;background-color: white;}#sk-container-id-2 div.sk-label label {font-family: monospace;font-weight: bold;display: inline-block;line-height: 1.2em;}#sk-container-id-2 div.sk-label-container {text-align: center;}#sk-container-id-2 div.sk-container {/* jupyter's `normalize.less` sets `[hidden] { display: none; }` but bootstrap.min.css set `[hidden] { display: none !important; }` so we also need the `!important` here to be able to override the default hidden behavior on the sphinx rendered scikit-learn.org. See: https://github.com/scikit-learn/scikit-learn/issues/21755 */display: inline-block !important;position: relative;}#sk-container-id-2 div.sk-text-repr-fallback {display: none;}</style><div id=\"sk-container-id-2\" class=\"sk-top-container\"><div class=\"sk-text-repr-fallback\"><pre>LogisticRegression()</pre><b>In a Jupyter environment, please rerun this cell to show the HTML representation or trust the notebook. <br />On GitHub, the HTML representation is unable to render, please try loading this page with nbviewer.org.</b></div><div class=\"sk-container\" hidden><div class=\"sk-item\"><div class=\"sk-estimator sk-toggleable\"><input class=\"sk-toggleable__control sk-hidden--visually\" id=\"sk-estimator-id-11\" type=\"checkbox\" checked><label for=\"sk-estimator-id-11\" class=\"sk-toggleable__label sk-toggleable__label-arrow\">LogisticRegression</label><div class=\"sk-toggleable__content\"><pre>LogisticRegression()</pre></div></div></div></div></div>"
      ],
      "text/plain": [
       "LogisticRegression()"
      ]
     },
     "execution_count": 5,
     "metadata": {},
     "output_type": "execute_result"
    }
   ],
   "source": [
    "log_reg = best_estimator.named_steps['estimator']\n",
    "log_reg"
   ]
  },
  {
   "cell_type": "code",
   "execution_count": 6,
   "id": "e1b0df44-5271-41e5-b3b3-53d68cabfa24",
   "metadata": {},
   "outputs": [
    {
     "data": {
      "text/plain": [
       "array([-0.20669125, -0.13931919,  0.01871029,  0.03625636, -0.10029546,\n",
       "        0.71188944,  0.0879793 , -0.75048319, -0.07049254, -0.16683006,\n",
       "       -0.49859344, -0.42673321,  0.1569041 , -0.19875742,  0.07995278,\n",
       "       -0.18390335,  0.22095898, -0.03555125,  0.59488018, -0.47214882,\n",
       "       -0.24604184, -0.02743338, -0.16643049, -0.0432831 ,  0.19529365,\n",
       "        0.        , -0.33703579, -0.03489452,  0.28839667,  0.04168032,\n",
       "        0.11485153, -0.08221892, -0.1893313 ,  0.0588544 ,  0.05599097,\n",
       "        0.18006988,  0.0986018 ,  0.31065649, -0.4204067 , -0.09942118,\n",
       "       -0.11135362])"
      ]
     },
     "execution_count": 6,
     "metadata": {},
     "output_type": "execute_result"
    }
   ],
   "source": [
    "coefficients = log_reg.coef_[0]\n",
    "coefficients"
   ]
  },
  {
   "cell_type": "code",
   "execution_count": 7,
   "id": "c12dfe8d-dd66-4555-9414-96dffcd0cd4d",
   "metadata": {},
   "outputs": [
    {
     "data": {
      "text/plain": [
       "array(['pipeline-1__CODE_GENDER', 'pipeline-1__FLAG_OWN_CAR',\n",
       "       'pipeline-1__FLAG_OWN_REALTY', 'pipeline-1__CNT_CHILDREN',\n",
       "       'pipeline-1__AMT_INCOME_TOTAL', 'pipeline-1__AMT_CREDIT',\n",
       "       'pipeline-1__AMT_ANNUITY', 'pipeline-1__AMT_GOODS_PRICE',\n",
       "       'pipeline-1__DAYS_BIRTH', 'pipeline-1__DAYS_EMPLOYED',\n",
       "       'pipeline-1__EXT_SOURCE_2', 'pipeline-1__EXT_SOURCE_3',\n",
       "       'pipeline-2__NAME_CONTRACT_TYPE_Cash loans',\n",
       "       'pipeline-2__NAME_CONTRACT_TYPE_Revolving loans',\n",
       "       'pipeline-2__NAME_TYPE_SUITE_Children',\n",
       "       'pipeline-2__NAME_TYPE_SUITE_Family',\n",
       "       'pipeline-2__NAME_TYPE_SUITE_Group of people',\n",
       "       'pipeline-2__NAME_TYPE_SUITE_Other_A',\n",
       "       'pipeline-2__NAME_TYPE_SUITE_Other_B',\n",
       "       'pipeline-2__NAME_TYPE_SUITE_Spouse, partner',\n",
       "       'pipeline-2__NAME_TYPE_SUITE_Unaccompanied',\n",
       "       'pipeline-2__NAME_INCOME_TYPE_Commercial associate',\n",
       "       'pipeline-2__NAME_INCOME_TYPE_Pensioner',\n",
       "       'pipeline-2__NAME_INCOME_TYPE_State servant',\n",
       "       'pipeline-2__NAME_INCOME_TYPE_Working',\n",
       "       'pipeline-2__NAME_EDUCATION_TYPE_Academic degree',\n",
       "       'pipeline-2__NAME_EDUCATION_TYPE_Higher education',\n",
       "       'pipeline-2__NAME_EDUCATION_TYPE_Incomplete higher',\n",
       "       'pipeline-2__NAME_EDUCATION_TYPE_Lower secondary',\n",
       "       'pipeline-2__NAME_EDUCATION_TYPE_Secondary / secondary special',\n",
       "       'pipeline-2__NAME_FAMILY_STATUS_Civil marriage',\n",
       "       'pipeline-2__NAME_FAMILY_STATUS_Married',\n",
       "       'pipeline-2__NAME_FAMILY_STATUS_Separated',\n",
       "       'pipeline-2__NAME_FAMILY_STATUS_Single / not married',\n",
       "       'pipeline-2__NAME_FAMILY_STATUS_Widow',\n",
       "       'pipeline-2__NAME_HOUSING_TYPE_Co-op apartment',\n",
       "       'pipeline-2__NAME_HOUSING_TYPE_House / apartment',\n",
       "       'pipeline-2__NAME_HOUSING_TYPE_Municipal apartment',\n",
       "       'pipeline-2__NAME_HOUSING_TYPE_Office apartment',\n",
       "       'pipeline-2__NAME_HOUSING_TYPE_Rented apartment',\n",
       "       'pipeline-2__NAME_HOUSING_TYPE_With parents'], dtype=object)"
      ]
     },
     "execution_count": 7,
     "metadata": {},
     "output_type": "execute_result"
    }
   ],
   "source": [
    "transformed_feature_names = best_estimator.named_steps['columntransformer'].get_feature_names_out()\n",
    "transformed_feature_names"
   ]
  },
  {
   "cell_type": "code",
   "execution_count": 8,
   "id": "c0e915fc-a4ac-4cdf-b9db-957ddd414d6c",
   "metadata": {},
   "outputs": [
    {
     "name": "stdout",
     "output_type": "stream",
     "text": [
      "                                              Feature  Importance\n",
      "7                         pipeline-1__AMT_GOODS_PRICE   -0.750483\n",
      "5                              pipeline-1__AMT_CREDIT    0.711889\n",
      "18                pipeline-2__NAME_TYPE_SUITE_Other_B    0.594880\n",
      "10                           pipeline-1__EXT_SOURCE_2   -0.498593\n",
      "19        pipeline-2__NAME_TYPE_SUITE_Spouse, partner   -0.472149\n",
      "11                           pipeline-1__EXT_SOURCE_3   -0.426733\n",
      "38     pipeline-2__NAME_HOUSING_TYPE_Office apartment   -0.420407\n",
      "26   pipeline-2__NAME_EDUCATION_TYPE_Higher education   -0.337036\n",
      "37  pipeline-2__NAME_HOUSING_TYPE_Municipal apartment    0.310656\n",
      "28    pipeline-2__NAME_EDUCATION_TYPE_Lower secondary    0.288397\n",
      "20          pipeline-2__NAME_TYPE_SUITE_Unaccompanied   -0.246042\n",
      "16        pipeline-2__NAME_TYPE_SUITE_Group of people    0.220959\n",
      "0                             pipeline-1__CODE_GENDER   -0.206691\n",
      "13     pipeline-2__NAME_CONTRACT_TYPE_Revolving loans   -0.198757\n",
      "24               pipeline-2__NAME_INCOME_TYPE_Working    0.195294\n",
      "32           pipeline-2__NAME_FAMILY_STATUS_Separated   -0.189331\n",
      "15                 pipeline-2__NAME_TYPE_SUITE_Family   -0.183903\n",
      "35      pipeline-2__NAME_HOUSING_TYPE_Co-op apartment    0.180070\n",
      "9                           pipeline-1__DAYS_EMPLOYED   -0.166830\n",
      "22             pipeline-2__NAME_INCOME_TYPE_Pensioner   -0.166430\n",
      "12          pipeline-2__NAME_CONTRACT_TYPE_Cash loans    0.156904\n",
      "1                            pipeline-1__FLAG_OWN_CAR   -0.139319\n",
      "30      pipeline-2__NAME_FAMILY_STATUS_Civil marriage    0.114852\n",
      "40         pipeline-2__NAME_HOUSING_TYPE_With parents   -0.111354\n",
      "4                        pipeline-1__AMT_INCOME_TOTAL   -0.100295\n",
      "39     pipeline-2__NAME_HOUSING_TYPE_Rented apartment   -0.099421\n",
      "36    pipeline-2__NAME_HOUSING_TYPE_House / apartment    0.098602\n",
      "6                             pipeline-1__AMT_ANNUITY    0.087979\n",
      "31             pipeline-2__NAME_FAMILY_STATUS_Married   -0.082219\n",
      "14               pipeline-2__NAME_TYPE_SUITE_Children    0.079953\n",
      "8                              pipeline-1__DAYS_BIRTH   -0.070493\n",
      "33  pipeline-2__NAME_FAMILY_STATUS_Single / not ma...    0.058854\n",
      "34               pipeline-2__NAME_FAMILY_STATUS_Widow    0.055991\n",
      "23         pipeline-2__NAME_INCOME_TYPE_State servant   -0.043283\n",
      "29  pipeline-2__NAME_EDUCATION_TYPE_Secondary / se...    0.041680\n",
      "3                            pipeline-1__CNT_CHILDREN    0.036256\n",
      "17                pipeline-2__NAME_TYPE_SUITE_Other_A   -0.035551\n",
      "27  pipeline-2__NAME_EDUCATION_TYPE_Incomplete higher   -0.034895\n",
      "21  pipeline-2__NAME_INCOME_TYPE_Commercial associate   -0.027433\n",
      "2                         pipeline-1__FLAG_OWN_REALTY    0.018710\n",
      "25    pipeline-2__NAME_EDUCATION_TYPE_Academic degree    0.000000\n"
     ]
    }
   ],
   "source": [
    "# Création d'un DataFrame pour associer les coefficients aux noms des caractéristiques\n",
    "feature_importance = pd.DataFrame({\n",
    "    'Feature': transformed_feature_names,\n",
    "    'Importance': coefficients\n",
    "})\n",
    "\n",
    "# Tri par importance absolue\n",
    "feature_importance['Abs_Importance'] = np.abs(feature_importance['Importance'])\n",
    "feature_importance = feature_importance.sort_values(by='Abs_Importance', ascending=False)\n",
    "\n",
    "# Affichage de l'importance des caractéristiques\n",
    "print(feature_importance[['Feature', 'Importance']])"
   ]
  },
  {
   "cell_type": "code",
   "execution_count": null,
   "id": "27bb2852-860b-4533-8cb5-868c31188986",
   "metadata": {},
   "outputs": [],
   "source": []
  }
 ],
 "metadata": {
  "kernelspec": {
   "display_name": "Python 3 (ipykernel)",
   "language": "python",
   "name": "python3"
  },
  "language_info": {
   "codemirror_mode": {
    "name": "ipython",
    "version": 3
   },
   "file_extension": ".py",
   "mimetype": "text/x-python",
   "name": "python",
   "nbconvert_exporter": "python",
   "pygments_lexer": "ipython3",
   "version": "3.9.18"
  }
 },
 "nbformat": 4,
 "nbformat_minor": 5
}
